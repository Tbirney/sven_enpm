{
  "nbformat": 4,
  "nbformat_minor": 0,
  "metadata": {
    "colab": {
      "provenance": [],
      "authorship_tag": "ABX9TyNkhunCbEhLwrVLnSrfvVKp",
      "include_colab_link": true
    },
    "kernelspec": {
      "name": "python3",
      "display_name": "Python 3"
    },
    "language_info": {
      "name": "python"
    }
  },
  "cells": [
    {
      "cell_type": "markdown",
      "metadata": {
        "id": "view-in-github",
        "colab_type": "text"
      },
      "source": [
        "<a href=\"https://colab.research.google.com/github/varungole/sven_enpm/blob/varun-dev/SequenceMather.ipynb\" target=\"_parent\"><img src=\"https://colab.research.google.com/assets/colab-badge.svg\" alt=\"Open In Colab\"/></a>"
      ]
    },
    {
      "cell_type": "code",
      "execution_count": null,
      "metadata": {
        "colab": {
          "base_uri": "https://localhost:8080/"
        },
        "id": "kkBKTyCrCJFF",
        "outputId": "c8f606ed-9706-4718-afd8-6e0aef31465e"
      },
      "outputs": [
        {
          "output_type": "stream",
          "name": "stdout",
          "text": [
            "Pair 0: (Apple, Appel) - Similarity Score: 0.8\n",
            "Pair 1: (Apple, qwerty) - Similarity Score: 0.18181818181818182\n",
            "Pair 2: (Apple, 1234) - Similarity Score: 0.0\n",
            "Pair 3: (Apple, 1234) - Similarity Score: 0.0\n",
            "Pair 4: (Apple, @#!@#!) - Similarity Score: 0.0\n",
            "Pair 5: (Apple, (*#(!@#))) - Similarity Score: 0.0\n",
            "Pair 6: (Apple, #include<conio.h) - Similarity Score: 0.19047619047619047\n",
            "Pair 7: (Apple, Appel) - Similarity Score: 0.8\n",
            "Pair 8: (Apple, qwerty) - Similarity Score: 0.18181818181818182\n",
            "Pair 9: (Apple, 1234) - Similarity Score: 0.0\n",
            "Pair 10: (Apple, 1234) - Similarity Score: 0.0\n",
            "Pair 11: (Apple, @#!@#!) - Similarity Score: 0.0\n",
            "Pair 12: (Apple, (*#(!@#))) - Similarity Score: 0.0\n",
            "Pair 13: (Apple, #include<conio.h) - Similarity Score: 0.19047619047619047\n",
            "Pair 14: (Apple, Appel) - Similarity Score: 0.8\n",
            "Pair 15: (Apple, qwerty) - Similarity Score: 0.18181818181818182\n",
            "Pair 16: (Apple, 1234) - Similarity Score: 0.0\n",
            "Pair 17: (Apple, 1234) - Similarity Score: 0.0\n",
            "Pair 18: (Apple, @#!@#!) - Similarity Score: 0.0\n",
            "Pair 19: (Apple, (*#(!@#))) - Similarity Score: 0.0\n",
            "Pair 20: (Apple, #include<conio.h) - Similarity Score: 0.19047619047619047\n",
            "Pair 21: (1223, Appel) - Similarity Score: 0.0\n",
            "Pair 22: (1223, qwerty) - Similarity Score: 0.0\n",
            "Pair 23: (1223, 1234) - Similarity Score: 0.75\n",
            "Pair 24: (1223, 1234) - Similarity Score: 0.75\n",
            "Pair 25: (1223, @#!@#!) - Similarity Score: 0.0\n",
            "Pair 26: (1223, (*#(!@#))) - Similarity Score: 0.0\n",
            "Pair 27: (1223, #include<conio.h) - Similarity Score: 0.0\n",
            "Pair 28: (1223, Appel) - Similarity Score: 0.0\n",
            "Pair 29: (1223, qwerty) - Similarity Score: 0.0\n",
            "Pair 30: (1223, 1234) - Similarity Score: 0.75\n",
            "Pair 31: (1223, 1234) - Similarity Score: 0.75\n",
            "Pair 32: (1223, @#!@#!) - Similarity Score: 0.0\n",
            "Pair 33: (1223, (*#(!@#))) - Similarity Score: 0.0\n",
            "Pair 34: (1223, #include<conio.h) - Similarity Score: 0.0\n",
            "Pair 35: (ASDAS, Appel) - Similarity Score: 0.2\n",
            "Pair 36: (ASDAS, qwerty) - Similarity Score: 0.0\n",
            "Pair 37: (ASDAS, 1234) - Similarity Score: 0.0\n",
            "Pair 38: (ASDAS, 1234) - Similarity Score: 0.0\n",
            "Pair 39: (ASDAS, @#!@#!) - Similarity Score: 0.0\n",
            "Pair 40: (ASDAS, (*#(!@#))) - Similarity Score: 0.0\n",
            "Pair 41: (ASDAS, #include<conio.h) - Similarity Score: 0.0\n",
            "Pair 42: (#include<iostream.h>, Appel) - Similarity Score: 0.08\n",
            "Pair 43: (#include<iostream.h>, qwerty) - Similarity Score: 0.15384615384615385\n",
            "Pair 44: (#include<iostream.h>, 1234) - Similarity Score: 0.0\n",
            "Pair 45: (#include<iostream.h>, 1234) - Similarity Score: 0.0\n",
            "Pair 46: (#include<iostream.h>, @#!@#!) - Similarity Score: 0.07692307692307693\n",
            "Pair 47: (#include<iostream.h>, (*#(!@#))) - Similarity Score: 0.06896551724137931\n",
            "Pair 48: (#include<iostream.h>, #include<conio.h) - Similarity Score: 0.7222222222222222\n",
            "=======================\n",
            "Top 1 Pair: (Apple, Appel) - Similarity Score: 0.8\n",
            "Top 2 Pair: (Apple, Appel) - Similarity Score: 0.8\n",
            "Top 3 Pair: (Apple, Appel) - Similarity Score: 0.8\n",
            "Top 4 Pair: (1223, 1234) - Similarity Score: 0.75\n",
            "Top 5 Pair: (1223, 1234) - Similarity Score: 0.75\n"
          ]
        }
      ],
      "source": [
        "from itertools import product\n",
        "from difflib import SequenceMatcher\n",
        "\n",
        "def similar(a, b):\n",
        "    return SequenceMatcher(None, a, b).ratio()\n",
        "\n",
        "def calculate_similarity_scores(list1, list2):\n",
        "    similarity_scores = []\n",
        "\n",
        "    for str1, str2 in product(list1, list2):\n",
        "        score = similar(str1, str2)\n",
        "        similarity_scores.append((str1, str2, score))\n",
        "\n",
        "    return similarity_scores\n",
        "\n",
        "l1 = [\"Apple\", \"Apple\", \"Apple\", \"1223\", \"1223\", \"ASDAS\", \"#include<iostream.h>\"]  # inrepo\n",
        "l2 = [\"Appel\", \"qwerty\", \"1234\", \"1234\", \"@#!@#!\", \"(*#(!@#))\", \"#include<conio.h\"]  # outrepo\n",
        "\n",
        "# Calculate similarity scores for each pair\n",
        "similarity_scores = calculate_similarity_scores(l1, l2)\n",
        "\n",
        "# Display similarity scores for each pair\n",
        "for i, (str1, str2, score) in enumerate(similarity_scores):\n",
        "    print(f\"Pair {i}: ({str1}, {str2}) - Similarity Score: {score}\")\n",
        "\n",
        "# Example: Create a new dataset based on specific conditions\n",
        "threshold = 0.6\n",
        "filtered_dataset = [(str1, str2, score) for str1, str2, score in similarity_scores if score > threshold]\n",
        "\n",
        "print(\"=======================\")\n",
        "similarity_scores.sort(key=lambda x: x[2], reverse=True)\n",
        "\n",
        "# Display the top 5 similarity scores for each pair\n",
        "top_5_pairs = similarity_scores[:5]\n",
        "for i, (str1, str2, score) in enumerate(top_5_pairs):\n",
        "    print(f\"Top {i + 1} Pair: ({str1}, {str2}) - Similarity Score: {score}\")\n"
      ]
    },
    {
      "cell_type": "code",
      "source": [
        "from typing import List\n",
        "from diff_match_patch import diff_match_patch\n",
        "\n",
        "def similar(a, b):\n",
        "    dmp = diff_match_patch()\n",
        "    diffs = dmp.diff_main(a, b)\n",
        "    dmp.diff_cleanupSemantic(diffs)\n",
        "\n",
        "    # Calculate the ratio based on the length of the strings and the number of differences\n",
        "    ratio = (len(diffs) - dmp.diff_levenshtein(diffs)) / len(diffs)\n",
        "\n",
        "    return ratio\n",
        "\n",
        "def calculate_similarity_scores(list1, list2):\n",
        "    similarity_scores = []\n",
        "\n",
        "    for str1, str2 in product(list1, list2):\n",
        "        score = similar(str1, str2)\n",
        "        similarity_scores.append((str1, str2, score))\n",
        "\n",
        "    return similarity_scores\n",
        "\n",
        "#26000 * 12000 --> 312 million\n",
        "\n",
        "l1 = [\"Apple\", \"Apple\", \"Apple\", \"1223\", \"1223\", \"ASDAS\", \"#include<iostream.h>\"]  # inrepo\n",
        "l2 = [\"Appel\", \"qwerty\", \"1234\", \"1234\", \"@#!@#!\", \"(*#(!@#))\", \"#include<conio.h\"]  # outrepo\n",
        "\n",
        "# Calculate similarity scores for each pair\n",
        "similarity_scores = calculate_similarity_scores(l1, l2)\n",
        "\n",
        "# Sort the list by similarity scores\n",
        "similarity_scores.sort(key=lambda x: x[2], reverse=True)\n",
        "\n",
        "# Display the top 5 similarity scores for each pair\n",
        "top_5_pairs = similarity_scores[:5]\n",
        "for i, (str1, str2, score) in enumerate(top_5_pairs):\n",
        "    print(f\"Top {i + 1} Pair: ({str1}, {str2}) - Similarity Score: {score}\")"
      ],
      "metadata": {
        "id": "za0a6UPsHQQV",
        "colab": {
          "base_uri": "https://localhost:8080/"
        },
        "outputId": "094a4645-0953-450a-daf2-93acfd71a68a"
      },
      "execution_count": null,
      "outputs": [
        {
          "output_type": "stream",
          "name": "stdout",
          "text": [
            "Top 1 Pair: (Apple, Appel) - Similarity Score: 0.5\n",
            "Top 2 Pair: (Apple, Appel) - Similarity Score: 0.5\n",
            "Top 3 Pair: (Apple, Appel) - Similarity Score: 0.5\n",
            "Top 4 Pair: (1223, 1234) - Similarity Score: 0.5\n",
            "Top 5 Pair: (1223, 1234) - Similarity Score: 0.5\n"
          ]
        }
      ]
    },
    {
      "cell_type": "code",
      "source": [
        "#not just one list, has to be nested list ( O(n^2)) something in comb library\n",
        "#min dataset size, use comb to get every single combination , get score and get top 1000\n",
        "#highest matches\n",
        "#get scores, sort the list by its associated score ,\n",
        "#another list ( dataset) with score and for every element, if neither of these two entries in list is present in another element,\n",
        "#appedn that thing to our dataset\n",
        "#string of a func ( def foo (a,b):)"
      ],
      "metadata": {
        "id": "woyTDiTnM5C9"
      },
      "execution_count": null,
      "outputs": []
    },
    {
      "cell_type": "code",
      "source": [],
      "metadata": {
        "id": "4OaImg_uMHvk"
      },
      "execution_count": null,
      "outputs": []
    }
  ]
}