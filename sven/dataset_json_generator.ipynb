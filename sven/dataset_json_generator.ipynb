{
 "cells": [
  {
   "cell_type": "code",
   "execution_count": 116,
   "metadata": {},
   "outputs": [],
   "source": [
    "import utils\n",
    "import lizard\n",
    "from diff_match_patch import diff_match_patch"
   ]
  },
  {
   "cell_type": "code",
   "execution_count": 117,
   "metadata": {},
   "outputs": [],
   "source": [
    "# in our example out of repo code corresponds to before code\n",
    "# and the target repo code corresponds to the after code"
   ]
  },
  {
   "cell_type": "code",
   "execution_count": 118,
   "metadata": {},
   "outputs": [],
   "source": [
    "before_src = None\n",
    "after_src = None\n",
    "\n",
    "with open('before_functions.py', 'r') as file:\n",
    "    before_src = file.read()\n",
    "\n",
    "with open('after_functions.py', 'r') as file:\n",
    "    after_src = file.read()"
   ]
  },
  {
   "cell_type": "code",
   "execution_count": 119,
   "metadata": {},
   "outputs": [
    {
     "data": {
      "text/plain": [
       "[(<lizard.FunctionInfo at 0x7f3e10371610>,\n",
       "  <lizard.FunctionInfo at 0x7f3e103c30a0>),\n",
       " (<lizard.FunctionInfo at 0x7f3e10371a60>,\n",
       "  <lizard.FunctionInfo at 0x7f3e103c3bb0>),\n",
       " (<lizard.FunctionInfo at 0x7f3e10371b80>,\n",
       "  <lizard.FunctionInfo at 0x7f3e103c3490>)]"
      ]
     },
     "execution_count": 119,
     "metadata": {},
     "output_type": "execute_result"
    }
   ],
   "source": [
    "# get the lizard func objects\n",
    "before_funcs = lizard.analyze_file.analyze_source_code('before_functions.py', before_src).function_list\n",
    "after_funcs = lizard.analyze_file.analyze_source_code('after_functions.py', after_src).function_list\n",
    "\n",
    "func_pairs = list(zip(before_funcs, after_funcs))\n",
    "\n",
    "func_pairs"
   ]
  },
  {
   "cell_type": "code",
   "execution_count": 120,
   "metadata": {},
   "outputs": [
    {
     "name": "stdout",
     "output_type": "stream",
     "text": [
      "{'func_name': 'func1', 'func_src_before': 'def func1():\\n    #line 1\\n    #line 2\\n    #line 3\\n    #line 4\\n    #line 5\\n    pass', 'func_src_after': \"def func1():\\n    #line 1\\n    #line and then comething else\\n    print('nothing')\\n    pass\", 'line_changes': {'deleted': [], 'added': []}, 'char_changes': {'deleted': [{'char_start': 35, 'char_end': 72, 'chars': '2\\n    #line 3\\n    #line 4\\n    #line 5'}], 'added': [{'char_start': 35, 'char_end': 79, 'chars': \"and then comething else\\n    print('nothing')\"}]}}\n",
      "{'func_name': 'func2', 'func_src_before': 'def func2():\\n    #line 1\\n    #line 2\\n    #line 3\\n    #line 4\\n    #line 5\\n    pass', 'func_src_after': 'def func2():\\n    #line 0\\n    #line 1\\n    #line 2\\n    #line 3\\n    #line 5\\n    #line 6\\n    #line 7\\n    pass', 'line_changes': {'deleted': [], 'added': []}, 'char_changes': {'deleted': [{'char_start': 59, 'char_end': 60, 'chars': '4'}, {'char_start': 71, 'char_end': 72, 'chars': '5'}], 'added': [{'char_start': 13, 'char_end': 25, 'chars': '    #line 0\\n'}, {'char_start': 71, 'char_end': 84, 'chars': '5\\n    #line 6'}, {'char_start': 95, 'char_end': 96, 'chars': '7'}]}}\n",
      "{'func_name': 'func3', 'func_src_before': 'def func3():\\n    #line 1\\n    #line 2\\n    #line 3\\n    #line 4\\n    #line 5\\n    pass', 'func_src_after': 'def func3():\\n    #line 1\\n    #line 2\\n    #line 3\\n    #line 4\\n    #line 5\\n    pass', 'line_changes': {'deleted': [], 'added': []}, 'char_changes': {'deleted': [], 'added': []}}\n"
     ]
    }
   ],
   "source": [
    "modified_funcs_list = []\n",
    "\n",
    "for pair in func_pairs:\n",
    "    modified_func = utils.ModifiedFunc(pair[0], pair[1], before_src, after_src)\n",
    "    modified_funcs_list.append(modified_func)\n",
    "    print(modified_func.to_json())"
   ]
  },
  {
   "cell_type": "code",
   "execution_count": 121,
   "metadata": {},
   "outputs": [
    {
     "name": "stdout",
     "output_type": "stream",
     "text": [
      "{'deleted': [{'char_start': 35, 'char_end': 72, 'chars': '2\\n    #line 3\\n    #line 4\\n    #line 5'}], 'added': [{'char_start': 35, 'char_end': 79, 'chars': \"and then comething else\\n    print('nothing')\"}]}\n",
      "{'deleted': [], 'added': []}\n",
      "\n",
      "{'deleted': [{'char_start': 59, 'char_end': 60, 'chars': '4'}, {'char_start': 71, 'char_end': 72, 'chars': '5'}], 'added': [{'char_start': 13, 'char_end': 25, 'chars': '    #line 0\\n'}, {'char_start': 71, 'char_end': 84, 'chars': '5\\n    #line 6'}, {'char_start': 95, 'char_end': 96, 'chars': '7'}]}\n",
      "{'deleted': [], 'added': []}\n",
      "\n",
      "{'deleted': [], 'added': []}\n",
      "{'deleted': [], 'added': []}\n",
      "\n"
     ]
    }
   ],
   "source": [
    "for f in modified_funcs_list:\n",
    "    print(f.char_changes)\n",
    "    print(f.line_changes)\n",
    "    print()"
   ]
  },
  {
   "cell_type": "code",
   "execution_count": 122,
   "metadata": {},
   "outputs": [],
   "source": [
    "def create_deletions(modified_func):\n",
    "\n",
    "    before_code = modified_func.func_src_before\n",
    "    before_code_lines = before_code.split('\\n')\n",
    "\n",
    "    # for every entry in deleted and added, extract the code and indeces\n",
    "    # then count how many new lines come before\n",
    "    # then check to see if every line in the changed code portion matches completely to an entry in\n",
    "    # the corresponding source code, and add to either an addition or deletion\n",
    "\n",
    "    # deletetions will compare to the before code\n",
    "    # additions will compare to the after code\n",
    "\n",
    "    char_changes_delete = modified_func.char_changes['deleted']\n",
    "    for change in char_changes_delete:\n",
    "\n",
    "        # count how many lines happened before we started changing code\n",
    "        # then add 1 to describe the current line where we changed code\n",
    "        start_line_num = before_code[:change['char_start']].count('\\n') + 1\n",
    "\n",
    "        # retrieve the changed code, and split each into their own line\n",
    "        # fileter out the empty line\n",
    "        changed_code = before_code[change['char_start']:change['char_end']+1].split('\\n')\n",
    "        changed_code = list(filter(None, changed_code))\n",
    "\n",
    "        for l in range(len(changed_code)):\n",
    "            # line num is 1 indexed\n",
    "            curr_line_num = start_line_num + l\n",
    "\n",
    "            # access the lines to analyze form the original and \n",
    "            # characters which have been deleted from\n",
    "            changed_line = changed_code[l]\n",
    "            src_code_line = before_code_lines[curr_line_num - 1]\n",
    "\n",
    "            # if the characters changed on the current line match extactly up with \n",
    "            # the entirety of the line in the src code then we can count this as \n",
    "            # a complete line deletion\n",
    "            if changed_line.strip() == src_code_line.strip():\n",
    "\n",
    "                # get the indeces of the current line that has been deleted\n",
    "                start_index = len('\\n'.join(before_code_lines[:curr_line_num - 1])) + 1\n",
    "                end_index = start_index + len(src_code_line)\n",
    "\n",
    "                deletion = {\"line_no\": curr_line_num, \"char_start\": start_index, \"char_end\": end_index, \"line\": src_code_line}\n",
    "                modified_func.line_changes['deleted'].append(deletion)\n",
    "\n",
    "                "
   ]
  },
  {
   "cell_type": "code",
   "execution_count": 123,
   "metadata": {},
   "outputs": [],
   "source": [
    "def create_additions(modified_func):\n",
    "    pass"
   ]
  },
  {
   "cell_type": "code",
   "execution_count": 129,
   "metadata": {},
   "outputs": [],
   "source": [
    "\n",
    "# using the character changes and the function source code\n",
    "# determine which of the character changes constitute a complete line addition or deletion\n",
    "def get_line_changes(modified_func):\n",
    "\n",
    "    # create_deletions(modified_func)\n",
    "    create_additions(modified_func)\n",
    "\n"
   ]
  },
  {
   "cell_type": "code",
   "execution_count": 130,
   "metadata": {},
   "outputs": [],
   "source": [
    "get_line_changes(modified_funcs_list[0])"
   ]
  },
  {
   "cell_type": "code",
   "execution_count": 131,
   "metadata": {},
   "outputs": [
    {
     "data": {
      "text/plain": [
       "{'func_name': 'func1',\n",
       " 'func_src_before': 'def func1():\\n    #line 1\\n    #line 2\\n    #line 3\\n    #line 4\\n    #line 5\\n    pass',\n",
       " 'func_src_after': \"def func1():\\n    #line 1\\n    #line and then comething else\\n    print('nothing')\\n    pass\",\n",
       " 'line_changes': {'deleted': [{'line_no': 4,\n",
       "    'char_start': 37,\n",
       "    'char_end': 48,\n",
       "    'line': '    #line 3'},\n",
       "   {'line_no': 5, 'char_start': 49, 'char_end': 60, 'line': '    #line 4'},\n",
       "   {'line_no': 6, 'char_start': 61, 'char_end': 72, 'line': '    #line 5'}],\n",
       "  'added': []},\n",
       " 'char_changes': {'deleted': [{'char_start': 35,\n",
       "    'char_end': 72,\n",
       "    'chars': '2\\n    #line 3\\n    #line 4\\n    #line 5'}],\n",
       "  'added': [{'char_start': 35,\n",
       "    'char_end': 79,\n",
       "    'chars': \"and then comething else\\n    print('nothing')\"}]}}"
      ]
     },
     "execution_count": 131,
     "metadata": {},
     "output_type": "execute_result"
    }
   ],
   "source": [
    "modified_funcs_list[0].to_json()"
   ]
  },
  {
   "cell_type": "code",
   "execution_count": null,
   "metadata": {},
   "outputs": [],
   "source": []
  },
  {
   "cell_type": "code",
   "execution_count": null,
   "metadata": {},
   "outputs": [],
   "source": []
  },
  {
   "cell_type": "code",
   "execution_count": null,
   "metadata": {},
   "outputs": [],
   "source": []
  }
 ],
 "metadata": {
  "kernelspec": {
   "display_name": "Python 3",
   "language": "python",
   "name": "python3"
  },
  "language_info": {
   "codemirror_mode": {
    "name": "ipython",
    "version": 3
   },
   "file_extension": ".py",
   "mimetype": "text/x-python",
   "name": "python",
   "nbconvert_exporter": "python",
   "pygments_lexer": "ipython3",
   "version": "3.8.10"
  }
 },
 "nbformat": 4,
 "nbformat_minor": 2
}
