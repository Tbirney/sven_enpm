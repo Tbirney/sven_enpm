{
 "cells": [
  {
   "cell_type": "code",
   "execution_count": 66,
   "metadata": {},
   "outputs": [],
   "source": [
    "import utils\n",
    "import lizard\n",
    "from diff_match_patch import diff_match_patch"
   ]
  },
  {
   "cell_type": "code",
   "execution_count": 67,
   "metadata": {},
   "outputs": [],
   "source": [
    "before_src = None\n",
    "after_src = None\n",
    "\n",
    "with open('before_functions.py', 'r') as file:\n",
    "    before_src = file.read()\n",
    "\n",
    "with open('after_functions.py', 'r') as file:\n",
    "    after_src = file.read()"
   ]
  },
  {
   "cell_type": "code",
   "execution_count": 68,
   "metadata": {},
   "outputs": [
    {
     "data": {
      "text/plain": [
       "[(<lizard.FunctionInfo at 0x7fd83eb4fac0>,\n",
       "  <lizard.FunctionInfo at 0x7fd83e76ed90>),\n",
       " (<lizard.FunctionInfo at 0x7fd83eb4f0a0>,\n",
       "  <lizard.FunctionInfo at 0x7fd83e76e9a0>),\n",
       " (<lizard.FunctionInfo at 0x7fd83e877b80>,\n",
       "  <lizard.FunctionInfo at 0x7fd83e76e1f0>)]"
      ]
     },
     "execution_count": 68,
     "metadata": {},
     "output_type": "execute_result"
    }
   ],
   "source": [
    "# get the lizard func objects\n",
    "before_funcs = lizard.analyze_file.analyze_source_code('before_functions.py', before_src).function_list\n",
    "after_funcs = lizard.analyze_file.analyze_source_code('after_functions.py', after_src).function_list\n",
    "func_pairs = list(zip(before_funcs, after_funcs))\n",
    "\n",
    "func_pairs"
   ]
  },
  {
   "cell_type": "code",
   "execution_count": 69,
   "metadata": {},
   "outputs": [],
   "source": [
    "modified_funcs_list = []\n",
    "\n",
    "for pair in func_pairs:\n",
    "    modified_func = utils.ModifiedFunc(pair[0], pair[1], before_src, after_src)\n",
    "    modified_funcs_list.append(modified_func)"
   ]
  },
  {
   "cell_type": "code",
   "execution_count": 70,
   "metadata": {},
   "outputs": [
    {
     "data": {
      "text/plain": [
       "[<utils.ModifiedFunc at 0x7fd83e944820>,\n",
       " <utils.ModifiedFunc at 0x7fd83e944430>,\n",
       " <utils.ModifiedFunc at 0x7fd83e944580>]"
      ]
     },
     "execution_count": 70,
     "metadata": {},
     "output_type": "execute_result"
    }
   ],
   "source": [
    "modified_funcs_list"
   ]
  },
  {
   "cell_type": "code",
   "execution_count": 71,
   "metadata": {},
   "outputs": [
    {
     "data": {
      "text/plain": [
       "{'deleted': [{'char_start': 49,\n",
       "   'char_end': 73,\n",
       "   'chars': '    #line 4\\n    #line 5\\n'}],\n",
       " 'added': []}"
      ]
     },
     "execution_count": 71,
     "metadata": {},
     "output_type": "execute_result"
    }
   ],
   "source": [
    "modified_funcs_list[0].char_changes"
   ]
  },
  {
   "cell_type": "code",
   "execution_count": 74,
   "metadata": {},
   "outputs": [
    {
     "name": "stdout",
     "output_type": "stream",
     "text": [
      "{'func_name': 'func1', 'func_src_before': 'def func1():\\n    #line 1\\n    #line 2\\n    #line 3\\n    #line 4\\n    #line 5\\n    pass', 'func_src_after': 'def func1():\\n    #line 1\\n    #line 2\\n    #line 3\\n    pass', 'line_changes': {'deleted': [], 'added': []}, 'char_changes': {'deleted': [{'char_start': 49, 'char_end': 73, 'chars': '    #line 4\\n    #line 5\\n'}], 'added': []}}\n",
      "===================================================\n",
      "{'func_name': 'func2', 'func_src_before': 'def func2():\\n    #line 1\\n    #line 2\\n    #line 3\\n    #line 4\\n    #line 5\\n    pass', 'func_src_after': 'def func2():\\n    #line 1\\n    #line 2\\n    #line 3\\n    #line 4\\n    #line 5\\n    #line 6\\n    #line 7\\n    pass', 'line_changes': {'deleted': [], 'added': []}, 'char_changes': {'deleted': [], 'added': [{'char_start': 73, 'char_end': 97, 'chars': '    #line 6\\n    #line 7\\n'}]}}\n",
      "===================================================\n",
      "{'func_name': 'func3', 'func_src_before': 'def func3():\\n    #line 1\\n    #line 2\\n    #line 3\\n    #line 4\\n    #line 5\\n    pass', 'func_src_after': 'def func3():\\n    #line 1\\n    #line 2\\n    #line 3\\n    #line 4\\n    #line 5\\n    pass', 'line_changes': {'deleted': [], 'added': []}, 'char_changes': {'deleted': [], 'added': []}}\n",
      "===================================================\n"
     ]
    }
   ],
   "source": [
    "for func in modified_funcs_list:\n",
    "    print(func.to_json())\n",
    "    print('===================================================')"
   ]
  },
  {
   "cell_type": "code",
   "execution_count": null,
   "metadata": {},
   "outputs": [],
   "source": []
  }
 ],
 "metadata": {
  "kernelspec": {
   "display_name": "Python 3",
   "language": "python",
   "name": "python3"
  },
  "language_info": {
   "codemirror_mode": {
    "name": "ipython",
    "version": 3
   },
   "file_extension": ".py",
   "mimetype": "text/x-python",
   "name": "python",
   "nbconvert_exporter": "python",
   "pygments_lexer": "ipython3",
   "version": "3.8.10"
  }
 },
 "nbformat": 4,
 "nbformat_minor": 2
}
